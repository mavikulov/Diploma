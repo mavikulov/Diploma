{
  "nbformat": 4,
  "nbformat_minor": 0,
  "metadata": {
    "colab": {
      "provenance": [],
      "authorship_tag": "ABX9TyPGuR3SJw1+K21cgedfMn4O",
      "include_colab_link": true
    },
    "kernelspec": {
      "name": "python3",
      "display_name": "Python 3"
    },
    "language_info": {
      "name": "python"
    }
  },
  "cells": [
    {
      "cell_type": "markdown",
      "metadata": {
        "id": "view-in-github",
        "colab_type": "text"
      },
      "source": [
        "<a href=\"https://colab.research.google.com/github/mavikulov/Diploma/blob/main/Untitled5.ipynb\" target=\"_parent\"><img src=\"https://colab.research.google.com/assets/colab-badge.svg\" alt=\"Open In Colab\"/></a>"
      ]
    },
    {
      "cell_type": "markdown",
      "source": [
        "import kagglehub\n",
        "\n",
        "# Download latest version\n",
        "path = kagglehub.dataset_download(\"ucimachinelearning/photoplethysmography-ppg-dataset\")\n",
        "\n",
        "print(\"Path to dataset files:\", path)"
      ],
      "metadata": {
        "id": "1mZs2iioav8C"
      }
    },
    {
      "cell_type": "code",
      "execution_count": null,
      "metadata": {
        "id": "J0m66MZ3aot5"
      },
      "outputs": [],
      "source": [
        "!pip install catboost"
      ]
    },
    {
      "cell_type": "code",
      "source": [
        "import pandas as pd\n",
        "pd.set_option('display.max_columns', None)\n",
        "import numpy as np\n",
        "\n",
        "import matplotlib.pyplot as plt\n",
        "import seaborn as sns\n",
        "sns.set_style(\"darkgrid\")\n",
        "import matplotlib.animation as animation\n",
        "from mlxtend.plotting import (plot_confusion_matrix,\n",
        "                              plot_decision_regions)\n",
        "from sklearn.metrics import accuracy_score, confusion_matrix\n",
        "\n",
        "from collections import Counter\n",
        "\n",
        "import warnings\n",
        "warnings.filterwarnings(\"ignore\")"
      ],
      "metadata": {
        "id": "ifwNmO8da3u5"
      },
      "execution_count": null,
      "outputs": []
    },
    {
      "cell_type": "markdown",
      "source": [
        "data = pd.read_csv(\"/root/.cache/kagglehub/datasets/ucimachinelearning/photoplethysmography-ppg-dataset/versions/1/PPG_Dataset.csv\")\n",
        "data.head()"
      ],
      "metadata": {
        "id": "cJJg2g-Ca5CZ"
      }
    },
    {
      "cell_type": "code",
      "source": [
        "print(f'Dataset: {data.shape[0]} rows and {data.shape[1]} columns')"
      ],
      "metadata": {
        "id": "ZrR2do-8a3sR"
      },
      "execution_count": null,
      "outputs": []
    },
    {
      "cell_type": "code",
      "source": [
        "target = data['Label']\n",
        "label_counts = target.value_counts()\n",
        "print(label_counts)\n",
        "plt.pie(label_counts, labels=label_counts.index, autopct='%1.1f%%', startangle=90)\n",
        "plt.title('Label Classes Distribution')\n",
        "plt.show()"
      ],
      "metadata": {
        "id": "LHJHL9Doa3ph"
      },
      "execution_count": null,
      "outputs": []
    },
    {
      "cell_type": "markdown",
      "source": [
        "В данном датасете распределение классов почти в соотношении 1:1"
      ],
      "metadata": {
        "id": "aKlY6QF0bE5R"
      }
    },
    {
      "cell_type": "code",
      "source": [
        "from sklearn.model_selection import train_test_split\n",
        "\n",
        "data_train, data_for_test_and_validation = train_test_split(data, test_size=0.2, random_state=42, stratify=data['Label'])\n",
        "data_valid, data_test = train_test_split(data_for_test_and_validation, test_size=0.5, random_state=42, stratify=data_for_test_and_validation['Label'])\n",
        "\n",
        "print(f\"Data Train Shape: {data_train.shape}\")\n",
        "print(f\"Data Valid Shape: {data_valid.shape}\")\n",
        "print(f\"Data Test Shape: {data_test.shape}\")\n",
        "print(f\"Train Samples: {data_train.shape[0]}\")\n",
        "print(f\"Valid Samples: {data_valid.shape[0]}\")\n",
        "print(f\"Test Samples: {data_test.shape[0]}\")"
      ],
      "metadata": {
        "id": "ASuyIATQa3eB"
      },
      "execution_count": null,
      "outputs": []
    },
    {
      "cell_type": "code",
      "source": [
        "data_eda = data_train.copy()\n",
        "data_eda.head()"
      ],
      "metadata": {
        "id": "V83zBtz3a9dy"
      },
      "execution_count": null,
      "outputs": []
    },
    {
      "cell_type": "code",
      "source": [
        "from sklearn.decomposition import PCA\n",
        "\n",
        "pca = PCA(n_components=1, random_state=42)\n",
        "pca.set_output(transform = 'pandas')\n",
        "components = pca.fit_transform(data_eda.drop(columns = 'Label'))\n",
        "components.head()"
      ],
      "metadata": {
        "id": "_ElzDiALa9bZ"
      },
      "execution_count": null,
      "outputs": []
    },
    {
      "cell_type": "code",
      "source": [
        "data_pca = pd.concat([components, data_eda['Label']], axis=1)\n",
        "data_pca.head()"
      ],
      "metadata": {
        "id": "TALs4auBa9Y5"
      },
      "execution_count": null,
      "outputs": []
    },
    {
      "cell_type": "code",
      "source": [
        "print(f\"Доля вариации после PCA: {pca.explained_variance_ratio_.cumsum()}\")"
      ],
      "metadata": {
        "id": "g7YLTlUYa9WR"
      },
      "execution_count": null,
      "outputs": []
    },
    {
      "cell_type": "code",
      "source": [
        "X_train, y_train = data_train.drop(columns='Label'), data_train['Label']\n",
        "X_valid, y_valid = data_valid.drop(columns='Label'), data_valid['Label']\n",
        "X_test, y_test = data_test.drop(columns='Label'), data_test['Label']\n",
        "\n",
        "print(f\"X_train Shape: {X_train.shape}\")\n",
        "print(f\"y_train Shape: {y_train.shape}\")\n",
        "print(f\"X_valid Shape: {X_valid.shape}\")\n",
        "print(f\"y_valid Shape: {y_valid.shape}\")\n",
        "print(f\"X_test Shape: {X_test.shape}\")\n",
        "print(f\"y_test Shape: {y_test.shape}\")"
      ],
      "metadata": {
        "id": "TJ3OVJC2a9Th"
      },
      "execution_count": null,
      "outputs": []
    },
    {
      "cell_type": "code",
      "source": [
        "pca = PCA(n_components=1, random_state=42)\n",
        "X_train_pca = pca.fit_transform(X_train)\n",
        "X_valid_pca = pca.transform(X_valid)\n",
        "X_test_pca = pca.transform(X_test)"
      ],
      "metadata": {
        "id": "m7evOicmbJdx"
      },
      "execution_count": null,
      "outputs": []
    },
    {
      "cell_type": "code",
      "source": [
        "binary_encoder = {'Normal':0., 'MI':1.}\n",
        "y_train_encoder = y_train.map(binary_encoder)\n",
        "y_valid_encoder = y_valid.map(binary_encoder)\n",
        "y_test_encoder = y_test.map(binary_encoder)\n",
        "\n",
        "print(Counter(y_train_encoder))\n",
        "print(Counter(y_valid_encoder))\n",
        "print(Counter(y_test_encoder))"
      ],
      "metadata": {
        "id": "mBFU-_zqbJbJ"
      },
      "execution_count": null,
      "outputs": []
    },
    {
      "cell_type": "markdown",
      "source": [
        "## ML-решение"
      ],
      "metadata": {
        "id": "nMV10TvgbO5Y"
      }
    },
    {
      "cell_type": "code",
      "source": [
        "from sklearn.linear_model import LogisticRegression\n",
        "from sklearn.svm import SVC\n",
        "from sklearn.neighbors import KNeighborsClassifier\n",
        "from sklearn.naive_bayes import GaussianNB\n",
        "from sklearn.tree import DecisionTreeClassifier\n",
        "from sklearn.ensemble import RandomForestClassifier, GradientBoostingClassifier\n",
        "from xgboost import XGBClassifier\n",
        "from catboost import CatBoostClassifier"
      ],
      "metadata": {
        "id": "dnjAcgPVbJWB"
      },
      "execution_count": null,
      "outputs": []
    },
    {
      "cell_type": "code",
      "source": [
        "log_reg = LogisticRegression()\n",
        "svc = SVC()\n",
        "knn = KNeighborsClassifier()\n",
        "gnb = GaussianNB()\n",
        "dtc = DecisionTreeClassifier()\n",
        "rfc = RandomForestClassifier()\n",
        "gbc = GradientBoostingClassifier()\n",
        "xgb = XGBClassifier()\n",
        "cat = CatBoostClassifier(verbose=0)\n",
        "\n",
        "models = [log_reg, svc, knn, gnb, dtc, rfc, gbc, xgb, cat]"
      ],
      "metadata": {
        "id": "Vbd4rfKra9Qp"
      },
      "execution_count": null,
      "outputs": []
    },
    {
      "cell_type": "code",
      "source": [
        "scores_train = {}\n",
        "scores_valid = {}\n",
        "\n",
        "for i, model in enumerate(models):\n",
        "    name_model = type(model).__name__\n",
        "\n",
        "    model.fit(X_train_pca, y_train_encoder.values)\n",
        "\n",
        "    y_pred_train = model.predict(X_train_pca)\n",
        "    y_pred_valid = model.predict(X_valid_pca)\n",
        "\n",
        "    scores_train[name_model] = accuracy_score(y_train_encoder, y_pred_train)\n",
        "    scores_valid[name_model] = accuracy_score(y_valid_encoder, y_pred_valid)\n",
        "\n",
        "    print(f\"{i + 1}.- {name_model} finished!!\\n\")"
      ],
      "metadata": {
        "id": "eERNxzeFbM6h"
      },
      "execution_count": null,
      "outputs": []
    },
    {
      "cell_type": "code",
      "source": [
        "name_models = list(scores_train.keys())\n",
        "acc_train = list(scores_train.values())\n",
        "acc_valid = list(scores_valid.values())\n",
        "\n",
        "x = np.arange(len(name_models))\n",
        "\n",
        "width = 0.35\n",
        "\n",
        "fig,ax = plt.subplots(figsize = (15, 5.2))\n",
        "\n",
        "rects1 = ax.bar(x - width / 2, acc_train, width = width, label = 'Train')\n",
        "rects2 = ax.bar(x + width / 2, acc_valid, width = width, label = 'Valid')\n",
        "\n",
        "ax.set_ylabel(\"Accuracy\", fontsize = 10, fontweight = 'bold', color = 'black')\n",
        "ax.set_title(\"Metric Performance: Accuracy\", fontsize = 12, fontweight = 'bold', color = 'black')\n",
        "ax.set_xticks(x)\n",
        "ax.set_xticklabels(name_models, rotation = 45, horizontalalignment = 'right', fontsize = 8, color = 'black', fontweight = 'bold')\n",
        "ax.axhline(y = min(scores_valid.values()), lw = 2.0, linestyle = '--', color = 'lime')\n",
        "ax.legend()\n",
        "\n",
        "def autolabel(rects):\n",
        "    for rect in rects:\n",
        "        height = round(rect.get_height(), 4)\n",
        "        ax.annotate(f'{height}',\n",
        "                    xy=(rect.get_x() + rect.get_width() / 2, height),\n",
        "                    xytext=(0, 3),\n",
        "                    textcoords=\"offset points\",\n",
        "                    ha='center', va='bottom', fontweight = 'bold', color = 'black', fontsize = 8)\n",
        "\n",
        "autolabel(rects1)\n",
        "autolabel(rects2)\n",
        "fig.tight_layout()\n",
        "fig.show()"
      ],
      "metadata": {
        "id": "osZudeC4bM3Z"
      },
      "execution_count": null,
      "outputs": []
    },
    {
      "cell_type": "code",
      "source": [
        "for model in models:\n",
        "  model.fit(X_train_pca, y_train_encoder.values)\n",
        "  y_pred_test = model.predict(X_test_pca)\n",
        "  print(f\"{type(model).__name__}: {accuracy_score(y_test_encoder, y_pred_test):.4f}\")"
      ],
      "metadata": {
        "id": "EHumVLdBbM0h"
      },
      "execution_count": null,
      "outputs": []
    },
    {
      "cell_type": "code",
      "source": [
        "best_model = LogisticRegression()\n",
        "best_model.fit(X_train_pca, y_train_encoder.values)\n",
        "y_pred_test = best_model.predict(X_test_pca)\n",
        "cf_matrix = confusion_matrix(y_test_encoder.values, y_pred_test)\n",
        "\n",
        "fig, ax = plot_confusion_matrix(conf_mat = cf_matrix,\n",
        "                                show_absolute = True,\n",
        "                                show_normed=True,\n",
        "                                class_names = ['Normal', 'MI'])\n",
        "plt.show()"
      ],
      "metadata": {
        "id": "E-XpXTVTbV64"
      },
      "execution_count": null,
      "outputs": []
    },
    {
      "cell_type": "code",
      "source": [
        "from sklearn.model_selection import GridSearchCV\n",
        "\n",
        "param_grid = {\n",
        "    'C': [0.01, 0.1, 1, 10, 100],\n",
        "    'penalty': ['l1', 'l2'],\n",
        "    'max_iter': [100, 200, 300],\n",
        "}\n",
        "\n",
        "grid_search = GridSearchCV(estimator=log_reg, param_grid=param_grid, cv=5, scoring='accuracy', n_jobs=-1)\n",
        "grid_search.fit(X_train_pca, y_train_encoder.values)\n",
        "\n",
        "print(f\"Лучшие гиперпараметры: {grid_search.best_params_}\")\n",
        "print(f\"Лучшее значение accuracy: {grid_search.best_score_:.4f}\")\n",
        "\n",
        "the_best_model = grid_search.best_estimator_\n",
        "y_pred = the_best_model.predict(X_test_pca)\n",
        "test_accuracy = accuracy_score(y_test_encoder.values, y_pred)\n",
        "print(f\"Accuracy на тестовых данных: {test_accuracy:.4f}\")"
      ],
      "metadata": {
        "id": "rwQDeeb_bV4B"
      },
      "execution_count": null,
      "outputs": []
    },
    {
      "cell_type": "markdown",
      "source": [
        "## Фильтрация + пороговые классификаторы"
      ],
      "metadata": {
        "id": "QJ3KjD-pbZ5R"
      }
    },
    {
      "cell_type": "code",
      "source": [
        "X = data.drop(columns=['Label'])\n",
        "y = data['Label']\n",
        "y = y.map(binary_encoder)"
      ],
      "metadata": {
        "id": "minZaQfjbVyR"
      },
      "execution_count": null,
      "outputs": []
    },
    {
      "cell_type": "markdown",
      "source": [
        "### Реккурентные фильтры"
      ],
      "metadata": {
        "id": "0wWXYORtbdRh"
      }
    },
    {
      "cell_type": "code",
      "source": [
        "from scipy.signal import butter, filtfilt\n",
        "\n",
        "def butter_bandpass(lowcut, highcut, fs, order=5):\n",
        "    nyquist = 0.5 * fs\n",
        "    low = lowcut / nyquist\n",
        "    high = highcut / nyquist\n",
        "    b, a = butter(order, [low, high], btype='band')\n",
        "    return b, a\n",
        "\n",
        "def apply_bandpass_filter(data, lowcut, highcut, fs):\n",
        "    b, a = butter_bandpass(lowcut, highcut, fs)\n",
        "    return filtfilt(b, a, data)\n",
        "\n",
        "X_rec_filtered = X.apply(lambda col: apply_bandpass_filter(col, 0.5, 45, 100))\n",
        "plt.plot(X_rec_filtered.iloc[0])"
      ],
      "metadata": {
        "id": "ZYPBtpO7bdw5"
      },
      "execution_count": null,
      "outputs": []
    }
  ]
}