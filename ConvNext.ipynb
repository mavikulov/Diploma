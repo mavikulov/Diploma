{
  "nbformat": 4,
  "nbformat_minor": 0,
  "metadata": {
    "colab": {
      "provenance": [],
      "authorship_tag": "ABX9TyO0l9Vl8vbhLSNT1zX1fwEK",
      "include_colab_link": true
    },
    "kernelspec": {
      "name": "python3",
      "display_name": "Python 3"
    },
    "language_info": {
      "name": "python"
    }
  },
  "cells": [
    {
      "cell_type": "markdown",
      "metadata": {
        "id": "view-in-github",
        "colab_type": "text"
      },
      "source": [
        "<a href=\"https://colab.research.google.com/github/mavikulov/Diploma/blob/main/ConvNext.ipynb\" target=\"_parent\"><img src=\"https://colab.research.google.com/assets/colab-badge.svg\" alt=\"Open In Colab\"/></a>"
      ]
    },
    {
      "cell_type": "code",
      "execution_count": 1,
      "metadata": {
        "colab": {
          "base_uri": "https://localhost:8080/"
        },
        "id": "7lmHRF-MwISa",
        "outputId": "7bb23871-1d0c-4680-870b-6fd6588957ff"
      },
      "outputs": [
        {
          "output_type": "stream",
          "name": "stdout",
          "text": [
            "--2025-01-14 07:39:35--  https://raw.githubusercontent.com/yandexdataschool/deep_vision_and_graphics/fall21/homework01/tiny_img.py\n",
            "Resolving raw.githubusercontent.com (raw.githubusercontent.com)... 185.199.109.133, 185.199.111.133, 185.199.110.133, ...\n",
            "Connecting to raw.githubusercontent.com (raw.githubusercontent.com)|185.199.109.133|:443... connected.\n",
            "HTTP request sent, awaiting response... 200 OK\n",
            "Length: 813 [text/plain]\n",
            "Saving to: ‘tiny_img.py’\n",
            "\n",
            "\rtiny_img.py           0%[                    ]       0  --.-KB/s               \rtiny_img.py         100%[===================>]     813  --.-KB/s    in 0s      \n",
            "\n",
            "2025-01-14 07:39:35 (28.1 MB/s) - ‘tiny_img.py’ saved [813/813]\n",
            "\n",
            "--2025-01-14 07:39:35--  https://raw.githubusercontent.com/yandexdataschool/deep_vision_and_graphics/fall21/homework01/tiny_img_dataset.py\n",
            "Resolving raw.githubusercontent.com (raw.githubusercontent.com)... 185.199.109.133, 185.199.110.133, 185.199.108.133, ...\n",
            "Connecting to raw.githubusercontent.com (raw.githubusercontent.com)|185.199.109.133|:443... connected.\n",
            "HTTP request sent, awaiting response... 200 OK\n",
            "Length: 1555 (1.5K) [text/plain]\n",
            "Saving to: ‘tiny_img_dataset.py’\n",
            "\n",
            "tiny_img_dataset.py 100%[===================>]   1.52K  --.-KB/s    in 0s      \n",
            "\n",
            "2025-01-14 07:39:35 (19.0 MB/s) - ‘tiny_img_dataset.py’ saved [1555/1555]\n",
            "\n"
          ]
        }
      ],
      "source": [
        "! wget --no-check-certificate 'https://raw.githubusercontent.com/yandexdataschool/deep_vision_and_graphics/fall21/homework01/tiny_img.py' -O tiny_img.py\n",
        "! wget --no-check-certificate 'https://raw.githubusercontent.com/yandexdataschool/deep_vision_and_graphics/fall21/homework01/tiny_img_dataset.py' -O tiny_img_dataset.py"
      ]
    },
    {
      "cell_type": "code",
      "source": [
        "import matplotlib.pyplot as plt"
      ],
      "metadata": {
        "id": "PkLeqUZJHE_f"
      },
      "execution_count": 26,
      "outputs": []
    },
    {
      "cell_type": "code",
      "source": [
        "from tiny_img import download_tinyImg200\n",
        "data_path = '.'\n",
        "download_tinyImg200(data_path)"
      ],
      "metadata": {
        "colab": {
          "base_uri": "https://localhost:8080/"
        },
        "id": "F07XIJEDwMqh",
        "outputId": "3eb9b207-cfe9-4cc7-ea4b-b3e8e6e0a241"
      },
      "execution_count": 2,
      "outputs": [
        {
          "output_type": "stream",
          "name": "stdout",
          "text": [
            "Dataset was downloaded to './tiny-imagenet-200.zip'\n",
            "Extract downloaded dataset to '.'\n"
          ]
        }
      ]
    },
    {
      "cell_type": "code",
      "source": [
        "import torch\n",
        "import torchvision\n",
        "from torchvision import transforms\n",
        "import tqdm\n",
        "\n",
        "def get_computing_device():\n",
        "    if torch.cuda.is_available():\n",
        "        device = torch.device('cuda:0')\n",
        "    else:\n",
        "        device = torch.device('cpu')\n",
        "    return device\n",
        "\n",
        "device = get_computing_device()\n",
        "print(f\"Our main computing device is '{device}'\")"
      ],
      "metadata": {
        "colab": {
          "base_uri": "https://localhost:8080/"
        },
        "id": "tFOBcqFdwtJR",
        "outputId": "30f9f040-277d-4ac6-ca37-48d37d418408"
      },
      "execution_count": 13,
      "outputs": [
        {
          "output_type": "stream",
          "name": "stdout",
          "text": [
            "Our main computing device is 'cpu'\n"
          ]
        }
      ]
    },
    {
      "cell_type": "code",
      "source": [
        "train_transforms = transforms.Compose(\n",
        "    [\n",
        "     transforms.RandomHorizontalFlip(),\n",
        "     transforms.ToTensor(),\n",
        "     transforms.RandomRotation(5),\n",
        "     transforms.ColorJitter(brightness=0.9, contrast=0.7, saturation=0.8, hue=0.2)\n",
        "    ]\n",
        ")"
      ],
      "metadata": {
        "id": "qk9VwucFw9rg"
      },
      "execution_count": 14,
      "outputs": []
    },
    {
      "cell_type": "code",
      "source": [
        "import tiny_img_dataset\n",
        "# you may use torchvision.datasets.ImageFolder() with the same parameters for loading train dataset\n",
        "train_dataset = tiny_img_dataset.TinyImagenetRAM('tiny-imagenet-200/train', transform=train_transforms)"
      ],
      "metadata": {
        "colab": {
          "base_uri": "https://localhost:8080/"
        },
        "id": "pVJMtkFM3wkV",
        "outputId": "b104fc85-65a5-44e6-fc92-e8f77054681b"
      },
      "execution_count": 16,
      "outputs": [
        {
          "output_type": "stream",
          "name": "stderr",
          "text": [
            "tiny-imagenet-200/train: 100%|██████████| 200/200 [02:58<00:00,  1.12it/s]\n"
          ]
        }
      ]
    },
    {
      "cell_type": "code",
      "source": [
        "from torch.utils.data import Dataset\n",
        "import os\n",
        "from PIL import Image\n",
        "\n",
        "class TinyImagenetValDataset(Dataset):\n",
        "  def __init__(self, root, transform=transforms.ToTensor):\n",
        "      super().__init__()\n",
        "\n",
        "      self.root = root\n",
        "      with open(os.path.join(root, 'val_annotations.txt')) as f:\n",
        "        annotations = []\n",
        "        for line in f:\n",
        "          img_name, class_label = line.split('\\t')[:2]\n",
        "          annotations.append((img_name, class_label))\n",
        "\n",
        "      # 1. define self.classes - list of sorted class labels from annotations\n",
        "      # it should look like self.classes from \"TinyImagenetRAM\"\n",
        "      # YOUR CODE\n",
        "      self.classes = sorted(set(i[1] for i in annotations))\n",
        "\n",
        "      assert len(self.classes) == 200, len(self.classes)\n",
        "      assert all(self.classes[i] < self.classes[i+1] for i in range(len(self.classes)-1)), 'classes should be ordered'\n",
        "      assert all(isinstance(elem, type(annotations[0][1])) for elem in self.classes), 'your just need to reuse class_labels'\n",
        "\n",
        "      # 2. self.class_to_idx - dict from class label to class index\n",
        "      self.class_to_idx = {item: index for index, item in enumerate(self.classes)}\n",
        "\n",
        "      self.transform = transform\n",
        "\n",
        "      self.images, self.targets = [], []\n",
        "      for img_name, class_name in tqdm.tqdm(annotations, desc=root):\n",
        "        img_name = os.path.join(root, 'images', img_name)\n",
        "        # 3. load image and store it in self.images (your may want to use tiny_img_dataset.read_rgb_image)\n",
        "        # store the class index in self.targets\n",
        "        # YOUR CODE\n",
        "        image = tiny_img_dataset.read_rgb_image(img_name)\n",
        "\n",
        "        assert image.shape == (64, 64, 3), image.shape\n",
        "        self.images.append(Image.fromarray(image))\n",
        "        self.targets.append(self.class_to_idx[class_name])\n",
        "\n",
        "  def __len__(self):\n",
        "    return len(self.images)\n",
        "\n",
        "  def __getitem__(self, index):\n",
        "    image = self.images[index]\n",
        "    image = self.transform(image)\n",
        "    target = self.targets[index]\n",
        "    return image, target"
      ],
      "metadata": {
        "id": "Bcur4d8IzcGT"
      },
      "execution_count": 18,
      "outputs": []
    },
    {
      "cell_type": "code",
      "source": [
        "val_dataset = TinyImagenetValDataset('tiny-imagenet-200/val', transform=transforms.ToTensor())\n",
        "\n",
        "assert all(train_dataset.classes[i] == val_dataset.classes[i] for i in range(200)), \\\n",
        "    'class order in train and val datasets should be the same'\n",
        "assert all(train_dataset.class_to_idx[elem] == val_dataset.class_to_idx[elem] for elem in train_dataset.classes), \\\n",
        "    'class indices should be the same'"
      ],
      "metadata": {
        "colab": {
          "base_uri": "https://localhost:8080/"
        },
        "id": "qfbydDDd0CS3",
        "outputId": "dee8dc07-a383-4158-803e-594112d83c61"
      },
      "execution_count": 19,
      "outputs": [
        {
          "output_type": "stream",
          "name": "stderr",
          "text": [
            "tiny-imagenet-200/val: 100%|██████████| 10000/10000 [00:20<00:00, 478.27it/s]\n"
          ]
        }
      ]
    },
    {
      "cell_type": "code",
      "source": [
        "batch_size = 64\n",
        "train_batch_gen = torch.utils.data.DataLoader(train_dataset,\n",
        "                                              batch_size=batch_size,\n",
        "                                              shuffle=True,\n",
        "                                              num_workers=2)"
      ],
      "metadata": {
        "id": "T7T_46BS1G72"
      },
      "execution_count": 20,
      "outputs": []
    },
    {
      "cell_type": "code",
      "source": [
        "val_batch_gen = torch.utils.data.DataLoader(val_dataset,\n",
        "                                            batch_size=batch_size,\n",
        "                                            shuffle=False,\n",
        "                                            num_workers=12)"
      ],
      "metadata": {
        "colab": {
          "base_uri": "https://localhost:8080/"
        },
        "id": "qBK9v6clDqHJ",
        "outputId": "5647f061-cb4d-4569-fb3e-0e0e2906a67e"
      },
      "execution_count": 21,
      "outputs": [
        {
          "output_type": "stream",
          "name": "stderr",
          "text": [
            "/usr/local/lib/python3.10/dist-packages/torch/utils/data/dataloader.py:617: UserWarning: This DataLoader will create 12 worker processes in total. Our suggested max number of worker in current system is 2, which is smaller than what this DataLoader is going to create. Please be aware that excessive worker creation might get DataLoader running slow or even freeze, lower the worker number to avoid potential slowness/freeze if necessary.\n",
            "  warnings.warn(\n"
          ]
        }
      ]
    },
    {
      "cell_type": "markdown",
      "source": [
        "# ConvNeXt architecture"
      ],
      "metadata": {
        "id": "Qhe-JVMdDyWA"
      }
    },
    {
      "cell_type": "code",
      "source": [
        "import torch, torch.nn as nn\n",
        "import torch.nn.functional as F\n",
        "import numpy as np"
      ],
      "metadata": {
        "id": "ek4wLSZIDsM2"
      },
      "execution_count": 23,
      "outputs": []
    },
    {
      "cell_type": "code",
      "source": [
        "images, labels = train_batch_gen.__iter__().__next__()\n",
        "print(images[0].shape)\n",
        "print(labels[0])\n",
        "plt.imshow(images[0][0])"
      ],
      "metadata": {
        "colab": {
          "base_uri": "https://localhost:8080/",
          "height": 484
        },
        "id": "0m1qATYGD-CA",
        "outputId": "96b4c69a-9d20-4e3d-88c5-5ef7f7223e9d"
      },
      "execution_count": 32,
      "outputs": [
        {
          "output_type": "stream",
          "name": "stdout",
          "text": [
            "torch.Size([3, 64, 64])\n",
            "tensor(37)\n"
          ]
        },
        {
          "output_type": "execute_result",
          "data": {
            "text/plain": [
              "<matplotlib.image.AxesImage at 0x781d29af7c10>"
            ]
          },
          "metadata": {},
          "execution_count": 32
        },
        {
          "output_type": "display_data",
          "data": {
            "text/plain": [
              "<Figure size 640x480 with 1 Axes>"
            ],
            "image/png": "[encoded data removed]"
          },
          "metadata": {}
        }
      ]
    },
    {
      "cell_type": "code",
      "source": [
        "n_input_channels = 96\n",
        "n_output_channels = 192\n",
        "layer = nn.Conv2d(n_input_channels, n_output_channels, kernel_size=(7, 7), groups=n_input_channels)\n",
        "\n",
        "parameters_size = sum([elem.size().numel() for elem in layer.parameters()])\n",
        "assert parameters_size == (7*7*192 + 192), parameters_size"
      ],
      "metadata": {
        "id": "1d2Hbv5sHPzm"
      },
      "execution_count": 35,
      "outputs": []
    },
    {
      "cell_type": "code",
      "source": [
        "class LayerNorm2d(nn.Module):\n",
        "  def __init__(self, dim):\n",
        "    super().__init__()\n",
        "    self.ln = nn.LayerNorm(dim)\n",
        "\n",
        "  def forward(self, x):\n",
        "    print(x.shape)\n",
        "    x = x.permute(0, 2, 3, 1)\n",
        "    x = self.ln(x)\n",
        "    x = x.permute(0, 3, 1, 2)\n",
        "    return x"
      ],
      "metadata": {
        "id": "Ed-E5qBAKx1r"
      },
      "execution_count": 45,
      "outputs": []
    },
    {
      "cell_type": "code",
      "source": [
        "x = torch.rand((2, 5, 4, 3))\n",
        "layer = LayerNorm2d(5)\n",
        "out = layer(x)\n",
        "assert out.size() == x.size()\n",
        "parameters_size = sum([elem.size().numel() for elem in layer.parameters()])\n",
        "assert parameters_size == 10, parameters_size  # 5 for channel weights and 5 for biases"
      ],
      "metadata": {
        "colab": {
          "base_uri": "https://localhost:8080/"
        },
        "id": "EyJTQNtyNvok",
        "outputId": "b317e69c-679f-43ba-d215-b57f58e13146"
      },
      "execution_count": 47,
      "outputs": [
        {
          "output_type": "stream",
          "name": "stdout",
          "text": [
            "torch.Size([2, 5, 4, 3])\n"
          ]
        }
      ]
    },
    {
      "cell_type": "code",
      "source": [
        "class LayerScale2d(nn.Module):\n",
        "  def __init__(self, dim, layer_scale_init_value):\n",
        "    super().__init__()\n",
        "    self.gamma = nn.Parameter(layer_scale_init_value * torch.ones((dim, 1, 1)), requires_grad=True)\n",
        "\n",
        "  def forward(self, x):\n",
        "    x = x * self.gamma\n",
        "    return x"
      ],
      "metadata": {
        "id": "iNLVKiQsYBCe"
      },
      "execution_count": 53,
      "outputs": []
    },
    {
      "cell_type": "code",
      "source": [
        "x = torch.rand((2, 5, 4, 3))\n",
        "layer_scale_init_value = 1e-5\n",
        "layer = LayerScale2d(5, layer_scale_init_value)\n",
        "out = layer(x)\n",
        "assert out.size() == x.size()\n",
        "assert np.allclose(out.detach().numpy(), x.numpy()*layer_scale_init_value)"
      ],
      "metadata": {
        "id": "fvohaCq1Zd9P"
      },
      "execution_count": 54,
      "outputs": []
    },
    {
      "cell_type": "code",
      "source": [
        "class DropPath(nn.Module):\n",
        "  def __init__(self, drop_prob=None):\n",
        "    super(DropPath, self).__init__()\n",
        "    self.drop_prob = drop_prob\n",
        "\n",
        "  def forward(self, x):\n",
        "    if self.drop_prob == 0. or not self.training:\n",
        "      return x\n",
        "    keep_prob = 1 - self.drop_prob\n",
        "    shape = (x.shape[0],) + (1,) * (x.ndim - 1)\n",
        "    random_tensor = torch.rand(shape, device=x.device)\n",
        "    binary_tensor = (random_tensor < keep_prob).to(x.dtype)\n",
        "    out = x * binary_tensor / keep_prob\n",
        "    return out"
      ],
      "metadata": {
        "id": "oWQKCT30ZfdG"
      },
      "execution_count": 56,
      "outputs": []
    },
    {
      "cell_type": "code",
      "source": [
        "layer = DropPath(0.5)\n",
        "\n",
        "x = torch.rand((10,5,4,3))\n",
        "\n",
        "layer.eval()\n",
        "out = layer(x)\n",
        "assert out.size() == x.size()\n",
        "assert (out == x).all()\n",
        "\n",
        "layer.train()\n",
        "out = layer(x)\n",
        "assert out.size() == x.size()\n",
        "dropped_samples_mask = torch.isclose(out, torch.zeros([1])).all(dim=(1,2,3))\n",
        "n_dropped_samples = dropped_samples_mask.to(float).sum()\n",
        "assert n_dropped_samples > 2 and n_dropped_samples < 8, n_dropped_samples\n",
        "\n",
        "layer = DropPath(0.1)\n",
        "out = layer(x)\n",
        "dropped_samples_mask = torch.isclose(out, torch.zeros([1])).all(dim=(1,2,3))\n",
        "scaled_samples_mask = torch.isclose(out, x/0.9).all(dim=(1,2,3))\n",
        "assert torch.logical_or(dropped_samples_mask, scaled_samples_mask).all()"
      ],
      "metadata": {
        "id": "Ai9recstbAmP"
      },
      "execution_count": 57,
      "outputs": []
    },
    {
      "cell_type": "code",
      "source": [
        "class ConvNextBlock(nn.Module):\n",
        "    def __init__(self, dim, drop_rate=0., layer_scale_init_value=1e-6, use_bn=False):\n",
        "        super().__init__()\n",
        "\n",
        "        # YOUR CODE: define self.depthwise_conv  self.pointwise_conv1 self.pointwise_conv2\n",
        "        self.depthwise_conv = nn.Conv2d(\n",
        "            in_channels=dim,\n",
        "            out_channels=dim,\n",
        "            kernel_size=(5, 5),\n",
        "            padding=2,\n",
        "            groups=dim\n",
        "        )  # depthwise conv 5x5, padding 2, dim->dim\n",
        "\n",
        "        self.norm = LayerNorm2d(dim) if not use_bn else nn.BatchNorm2d(dim)\n",
        "\n",
        "        self.pointwise_conv1 = nn.Conv2d(\n",
        "            in_channels=dim,\n",
        "            out_channels=dim * 4,\n",
        "            kernel_size=(1, 1)\n",
        "        )  # 1x1 conv, dim -> dim*4  YOUR CODE\n",
        "\n",
        "        self.activation = nn.GELU()\n",
        "\n",
        "        self.pointwise_conv2 = nn.Conv2d(\n",
        "            in_channels=dim * 4,\n",
        "            out_channels=dim,\n",
        "            kernel_size=(1, 1)\n",
        "        )  # 1x1 conv, 4*dim -> dim YOUR CODE\n",
        "\n",
        "        self.layer_scale = LayerScale2d(dim, layer_scale_init_value) if layer_scale_init_value > 0 else nn.Identity()\n",
        "        self.drop_path = DropPath(drop_rate) if drop_rate is not None and drop_rate > 0. else nn.Identity()\n",
        "\n",
        "    def forward(self, x):\n",
        "        input = x\n",
        "        # YOUR CODE: sequentially apply to x: depthwise_conv + norm + pointwise_conv1 + activation + pointwise_conv2 + layer_scale\n",
        "        x = self.depthwise_conv(x)\n",
        "        x = self.norm(x)\n",
        "        x = self.pointwise_conv1(x)\n",
        "        x = self.activation(x)\n",
        "        x = self.pointwise_conv2(x)\n",
        "        x = self.layer_scale(x)\n",
        "\n",
        "        x = input + self.drop_path(x)\n",
        "        return x"
      ],
      "metadata": {
        "id": "kvGeAIpxb2y1"
      },
      "execution_count": 59,
      "outputs": []
    },
    {
      "cell_type": "code",
      "source": [
        "block_w_ln = ConvNextBlock(7, 0.1, 1e-6, use_bn=False)\n",
        "\n",
        "x = torch.rand([2,7,4,3])\n",
        "out = block_w_ln(x)\n",
        "\n",
        "assert out.size() == x.size()\n",
        "n_dwconv_parameters = sum([elem.size().numel() for elem in block_w_ln.depthwise_conv.parameters()])\n",
        "assert n_dwconv_parameters == 5*5*7 + 7\n",
        "n_pwconv1_parameters = sum([elem.size().numel() for elem in block_w_ln.pointwise_conv1.parameters()])\n",
        "assert n_pwconv1_parameters == 7*7*4 + 7*4\n",
        "n_pwconv2_parameters = sum([elem.size().numel() for elem in block_w_ln.pointwise_conv2.parameters()])\n",
        "assert n_pwconv2_parameters == 7*7*4 + 7"
      ],
      "metadata": {
        "colab": {
          "base_uri": "https://localhost:8080/"
        },
        "id": "sKsVC4lHcW0O",
        "outputId": "4267d387-7318-4a34-94a3-5874f58d6aee"
      },
      "execution_count": 60,
      "outputs": [
        {
          "output_type": "stream",
          "name": "stdout",
          "text": [
            "torch.Size([2, 7, 4, 3])\n"
          ]
        }
      ]
    },
    {
      "cell_type": "code",
      "source": [
        "block_w_bn = ConvNextBlock(7, 0.1, 1e-6, use_bn=True)\n",
        "\n",
        "x = torch.rand([2,7,4,3])\n",
        "out = block_w_bn(x)\n",
        "assert out.size() == x.size()\n",
        "\n",
        "n_block1_parameters = sum([elem.size().numel() for elem in block_w_ln.parameters()])\n",
        "n_block2_parameters = sum([elem.size().numel() for elem in block_w_bn.parameters()])\n",
        "assert n_block1_parameters == n_block2_parameters"
      ],
      "metadata": {
        "id": "I6eZzvtdcgZx"
      },
      "execution_count": 61,
      "outputs": []
    },
    {
      "cell_type": "code",
      "source": [
        "#!L\n",
        "class GlobalAveragePool(nn.Module):\n",
        "    def __init__(self, dim):\n",
        "        super().__init__()\n",
        "        self.dim = dim\n",
        "\n",
        "    def forward(self, x):\n",
        "        return torch.mean(x, dim=self.dim)"
      ],
      "metadata": {
        "id": "W_Cula852hZz"
      },
      "execution_count": 63,
      "outputs": []
    },
    {
      "cell_type": "code",
      "source": [
        "def create_stem(out_channels, use_bn):\n",
        "    return nn.Sequential(\n",
        "        nn.Conv2d(in_channels=3, out_channels=out_channels, kernel_size=(2, 2), stride=2, padding=0), # YOUR CODE; conv 2x2, stride 2, padding 0\n",
        "        nn.BatchNorm2d(out_channels) if use_bn else LayerNorm2d(out_channels)\n",
        "    )\n",
        "\n",
        "def create_downscale_block(in_channels, out_channels, use_bn):\n",
        "    return nn.Sequential(\n",
        "        nn.BatchNorm2d(in_channels) if use_bn else LayerNorm2d(in_channels),\n",
        "        nn.Conv2d(in_channels, out_channels, kernel_size=(2, 2), stride=2)  # YOUR CODE: conv 2x2, stride 2, padding 0\n",
        "    )"
      ],
      "metadata": {
        "id": "ngXgK7H03DHy"
      },
      "execution_count": 64,
      "outputs": []
    },
    {
      "cell_type": "code",
      "source": [
        "def create_convnext_like_network(config=None, use_bn=False, drop_rate=None):\n",
        "    \"\"\"\n",
        "    Creates ConvNeXt like network according to config\n",
        "    \"\"\"\n",
        "    model = nn.Sequential()\n",
        "\n",
        "    default_config = [[32, 32], [64, 64], [128, 128]]\n",
        "    config = config or default_config\n",
        "\n",
        "    stem_out_channels = config[0][0]\n",
        "    # YOUR CODE: create stem\n",
        "    model.add_module('stem', create_stem(stem_out_channels, use_bn))\n",
        "\n",
        "    # progressivily increase drop rate from 0 to 'drop_rate'\n",
        "    drop_rates = np.linspace(0, drop_rate, sum([len(e) for e in config])) if drop_rate is not None else None\n",
        "\n",
        "    layer_index = 0\n",
        "    for block_index in range(len(config)):\n",
        "        for layer_index_in_block in range(len(config[block_index])):\n",
        "            out_channels = config[block_index][layer_index_in_block]\n",
        "            layer_drop_rate = drop_rates[layer_index] if drop_rates is not None else None\n",
        "\n",
        "            # YOUR CODE: add ConvNextBlock\n",
        "            model.add_module(f\"{block_index}_{layer_index_in_block}\", ConvNextBlock(out_channels, layer_drop_rate, ))\n",
        "            layer_index += 1\n",
        "\n",
        "        if block_index != len(config) - 1:\n",
        "            downscale_in_channels = out_channels\n",
        "            downscale_out_channels = config[block_index+1][0]\n",
        "            # YOUR CODE: add downscale block\n",
        "            model.add_module(f'downscale_{block_index}', create_downscale_block(downscale_in_channels, downscale_out_channels, use_bn))\n",
        "\n",
        "    model.add_module('pool', GlobalAveragePool(dim=(2,3)))\n",
        "    model.add_module('norm_final', nn.BatchNorm1d(out_channels) if use_bn else nn.LayerNorm(out_channels))\n",
        "    model.add_module('logits', nn.Linear(out_channels, 200))\n",
        "    return model"
      ],
      "metadata": {
        "id": "cpc5zwKq6ITC"
      },
      "execution_count": 65,
      "outputs": []
    },
    {
      "cell_type": "markdown",
      "source": [
        "# Training technics"
      ],
      "metadata": {
        "id": "JpjkBAuu-bHJ"
      }
    },
    {
      "cell_type": "code",
      "source": [
        "def compute_loss(predictions, gt, label_smoothing=0.0):\n",
        "    return F.cross_entropy(predictions, gt, label_smoothing=label_smoothing).mean()"
      ],
      "metadata": {
        "id": "fF1kePpw-VpM"
      },
      "execution_count": 66,
      "outputs": []
    },
    {
      "cell_type": "code",
      "source": [
        "def create_averaged_model(model, decay=0.999):\n",
        "    # YOUR CODE: create AveragedModel instance with ema multi_avg_fn (dont forget to use 'decay' parameter)\n",
        "    averaged_model = torch.optim.swa_utils.AveragedModel(model, multi_avg_fn=torch.optim.swa_utils.get_ema_multi_avg_fn(decay))\n",
        "\n",
        "    return averaged_model"
      ],
      "metadata": {
        "id": "RiiPtO36_-dO"
      },
      "execution_count": 67,
      "outputs": []
    },
    {
      "cell_type": "code",
      "source": [
        "import numpy as np\n",
        "import time\n",
        "from collections import defaultdict\n",
        "import matplotlib.pyplot as plt\n",
        "%matplotlib inline\n",
        "\n",
        "\n",
        "def eval_model(model, data_generator):\n",
        "    accuracy = []\n",
        "    model.train(False) # disable dropout / use averages for batch_norm\n",
        "    with torch.no_grad():\n",
        "        for X_batch, y_batch in data_generator:\n",
        "            X_batch = X_batch.to(device)\n",
        "            logits = model(X_batch)\n",
        "            y_pred = logits.max(1)[1].data\n",
        "            accuracy.append(np.mean((y_batch.cpu() == y_pred.cpu()).numpy()))\n",
        "    return np.mean(accuracy)\n",
        "\n",
        "\n",
        "def train_model(model, optimizer, train_data_generator, ema_model=None, label_smoothing=0.0):\n",
        "    train_loss = []\n",
        "    model.train(True) # enable dropout / batch_norm training behavior\n",
        "    for (X_batch, y_batch) in tqdm.tqdm(train_data_generator):\n",
        "        opt.zero_grad()\n",
        "\n",
        "        # forward\n",
        "        # YOUR CODE: move X_batch, y_batch to 'device', compute model outputs on X_batch,\n",
        "        X_batch = X_batch.to(device)\n",
        "        y_batch = y_batch.to(device)\n",
        "        predictions = model(X_batch)\n",
        "\n",
        "        loss = compute_loss(predictions, y_batch, label_smoothing)\n",
        "\n",
        "        # backward\n",
        "        loss.backward()\n",
        "        optimizer.step()\n",
        "\n",
        "        if ema_model is not None:\n",
        "            # YOUR CODE: update parameters of ema model here (see pytorch doc on AveragedModel)\n",
        "            ema_model.update_parameters(model)\n",
        "\n",
        "        # metrics\n",
        "        train_loss.append(loss.cpu().data.numpy())\n",
        "    return np.mean(train_loss)\n",
        "\n",
        "\n",
        "def get_input_for_bn_recompute(data_generator):\n",
        "    for i, (x, y) in enumerate(data_generator):\n",
        "        x = x.to(device)\n",
        "        yield x\n",
        "        if i == 100:\n",
        "            break\n",
        "\n",
        "\n",
        "def train_loop(model, optimizer, train_data_generator, val_data_generator, num_epochs, ema_model=None, label_smoothing=0.0):\n",
        "    \"\"\"\n",
        "    num_epochs - total amount of full passes over training data\n",
        "    \"\"\"\n",
        "    train_metrics = defaultdict(list)\n",
        "    val_metrics = defaultdict(list)\n",
        "\n",
        "    for epoch in range(num_epochs):\n",
        "        start_time = time.time()\n",
        "\n",
        "        train_loss = train_model(model, optimizer, train_data_generator, ema_model, label_smoothing)\n",
        "\n",
        "        if ema_model is not None:\n",
        "            # YOUR CODE: update batchnorm statistics for ema_model (see pytorch doc on AveragedModel)\n",
        "            torch.optim.swa_utils.update_bn(get_input_for_bn_recompute(train_data_generator), ema_model) # you may need get_input_for_bn_recompute() function here\n",
        "\n",
        "        val_accuracy = eval_model(model, val_data_generator)\n",
        "\n",
        "        # Then we print the results for this epoch:\n",
        "        print(\"Epoch {} of {} took {:.3f}s\".format(epoch + 1, num_epochs, time.time() - start_time))\n",
        "        print(\"  training loss (in-iteration): \\t{:.6f}\".format(train_loss))\n",
        "        print(\"  validation accuracy: \\t\\t\\t{:.2f} %\".format(val_accuracy * 100))\n",
        "        train_metrics['loss'].append(train_loss)\n",
        "        val_metrics['accuracy'].append(val_accuracy)\n",
        "\n",
        "        if ema_model:\n",
        "            print(\"  validation accuracy(ema): \\t\\t\\t{:.2f} %\".format(val_accuracy_ema_model * 100))\n",
        "            val_metrics['ema_model_accuracy'].append(val_accuracy_ema_model)\n",
        "\n",
        "    print('Best model accuracy: ', max(val_metrics['accuracy']))\n",
        "    if ema_model:\n",
        "        print('Best ema model accuracy: ', max(val_metrics['ema_model_accuracy']))\n",
        "\n",
        "    plt.plot(val_metrics['accuracy'], label='model')\n",
        "    if ema_model:\n",
        "        plt.plot(val_metrics['ema_model_accuracy'], label='ema_model')\n",
        "    plt.grid()\n",
        "    plt.legend(loc='best')\n",
        "    return train_metrics, val_metrics"
      ],
      "metadata": {
        "id": "2NTWB4bRBuJ1"
      },
      "execution_count": 68,
      "outputs": []
    },
    {
      "cell_type": "code",
      "source": [],
      "metadata": {
        "id": "V44CDs4zEBoc"
      },
      "execution_count": null,
      "outputs": []
    }
  ]
}